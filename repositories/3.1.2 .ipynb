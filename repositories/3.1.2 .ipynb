{
 "cells": [
  {
   "cell_type": "code",
   "execution_count": 121,
   "id": "da77cd81",
   "metadata": {},
   "outputs": [],
   "source": [
    "from git import Repo, log\n",
    "import os\n",
    "import subprocess\n",
    "import csv\n",
    "import re"
   ]
  },
  {
   "cell_type": "code",
   "execution_count": 138,
   "id": "f92aaabf",
   "metadata": {},
   "outputs": [
    {
     "name": "stdout",
     "output_type": "stream",
     "text": [
      "['4d7efd4a Make puppet run on the new_db', '3fdea064 Merge pull request #277 from pigmej/pigmej-fix-158', '9f037ffa Added update action to nova_compute_libvirt_puppet', 'f5ab0fba Add update action for nova_compute', '1618caf9 Run and remove are the same', '9878adb9 Run and remove are the same', '17f80b4a Do not use hardcoded db port', '43329c8b Add and fix update actions. changing db_port should work now', \"8c1dc662 Merge branch 'master' into librarian\", '8da98c3c Copy action run to update', 'e077a157 Use default token backend. KVS seems to be broken', '4a3add5f Merge pull request #244 from bogdando/node_network_puppet', '19366f66 Add ceph_mon resource and example', '9751b879 Workaround l23network module issue', '289f022b Update node_network resource', '3d203c97 Add node_network puppet resource', '4dbfd63c Fix nova_generic_service resource', '94979f8d Add nova generic service resource', '8a5090ff Del duplicated puppet parameter', '23899f01 Fix ml2 agent resource and compostion', '2c185523 W/a LP1490438 for ml2 plugin resource', '6f72acde Remove ovs plugin and agent', '1d990bb3 Add neutron agent ovs with ml2 plugin resource', '696e0445 Add neutron ml2 plugin resource', 'e00003a5 Merge pull request #53 from Mirantis/bogdando/apache_puppet', '2e78911e Fix neutron conf for compute and nova_neutron resource', '6251331f Fix neutron db stamp head', 'ad533c3c Add neutron metadata agent resource', 'fa529776 Add neutron L3 agent resource', '4a9fee81 Add neutron DHCP agent resource', 'd83e2031 Fix neutron stamp/upgrade head', '956261f3 Fix core plugin, remove external class ref for neutron', '26bf28ff Fix removed sql_con', '26197555 Add composition for OVS plugin/agent', 'ad9e1fa3 Remove deprecated/unused sql conn inputs', '5bc771b8 Add neutron OVS agent resource', '190beffd Add neutron ovs plugin resource', '0570c4a6 Remove external class ref for neutron server resource', '8be49061 Decouple neutron resource', 'a2d72c4f Add apache puppet resource', '8daccdf7 Refactor example-puppet.py actions', '8d1c48ac Decompose glance_api_servicers input', '847f17b1 Add cinder volume ISCSI resource', 'ab24480e Add cinder_glance resource', '51d12211 Fix glance api servers for nova compute', 'd8f59710 Add nova_neutron resource.', '41433b26 Add nova comp libvirt resource', '204853a1 Add exec post config and network refresh to n-compute', '88d11981 Add nova compute resource', '041161cf Add nova conductor resource', '43843b6f Fix remove nova api resource', 'f4bb568a Fix schema and db-sync condition', '4c862d6b Add missing post-config and nova-common', 'a35697ae Add missed admin_password for nova api resource', '86136d77 Fix typo', '70d9a050 Add nova api puppet resource', '648dd6d4 Del nova_api after moved to nova_puppet resource', 'b26c8f95 Fix schema for nova puppet', '08b4bb7f Create nova base puppet resource', 'ca9cbd0a Fix remove actions for glance puppet resources', '1b400b27 Add glance registry puppet resource', 'be125bb2 Fix glance puppet classes dependencies', '10afefd2 Align glance_puppet with cinder_puppet and upstream', '47b52a27 Glance-puppet, not fully working yet', \"4470c7d2 Merge branch 'master' into nova-api\", 'b2f94c1c Add compostion layer for c-volume puppet', '73f87c03 Remove enabled and manage_services params for c-volume', 'a23ddc73 Add cinder volume puppet resource', 'de9b0645 Remove enabled and manage_service for c-scheduler', '08978ea3 Fix cinder scheduler puppet params', 'dfa473af Add cinder scheduler puppet resource', '5297e171 Remove enabled and manage_service for c-api', 'e2a049e0 Fix undeploy and resource_name ref at cinder api', '9d6e5fe0 Fix package cinder dependency for cinder api', 'e6b033fb Fix indentation and parameters', '800054cc Add cinder api puppet resource', '5f7129c9 Merge pull request #39 from Mirantis/bogdando/cinder_puppet', 'e2d4eca4 Update virtual resource for current branch', '0e16ac95 Fix remove and resource name ref for cinder', '124d9834 Merge pull request #40 from Mirantis/rabbitmq_fix', '322e1bb8 Neutron fixes', '2e6c8ba6 Use default nodename when removing', '21112df4 Remove nodename', '674dbb57 change path', '7dfd32eb nova-api resource', '74abd99f Fix undef db conneciton for cinder', '824c12d9 Add cinder puppet resource', 'b694f446 Fix rabbitmq startup', '7b72fb37 Rabbitmq remove action and fixes', '5c1c782e Rabbimtq service from puppet', '77e5deb5 Fix bools in puppet manifests', 'fbe847b5 Use FACTER_resource_name in shell variables', 'b8d9436c Fix remove', '86471e83 neutron_puppet works now with upstream openstack manifests', '7323a842 Puppet: lots of fixes & improvements', '65c4e755 Move Puppet resources to outside repos', 'e6afb39b hiera-redis added, single-master redis cluster', 'edf41f83 Hiera storage showoff', '7f667471 Puppet: Keystone remove action is working now', '54fdf934 Puppet: added port to keystone', '4bb9958f Keystone can now be deployed using Puppet', '', '', '']\n"
     ]
    }
   ],
   "source": [
    "# Extract commits that modified IaC scripts\n",
    "organizations = ['Mirantis', 'Mozilla', 'Opendev', 'Wikimedia']\n",
    "extensions = ['.pp', '.erb', '.epp', '.hiera']\n",
    "\n",
    "for organization in organizations:\n",
    "    repositories = os.listdir('./%s'%organization)\n",
    "    for repo in repositories:\n",
    "        iac_commits = []\n",
    "        commit_messages = []\n",
    "        path = './%s/%s'%(organization, repo)\n",
    "        \n",
    "        # Run the 'git log' command to retrieve commit logs\n",
    "        try:\n",
    "            for extension in extensions:\n",
    "                # Here we list the extensions\n",
    "                git_log_output = subprocess.check_output(['git', 'log','--oneline', '--', f'*{extension}'],\n",
    "                                                         cwd=path, text=True)\n",
    "                iac_commits.extend(git_log_output.strip().split('\\n'))\n",
    "        except subprocess.CalledProcessError as e:\n",
    "            print(f\"Error running 'git log': {e}\")\n",
    "        print(iac_commits)\n",
    "        break\n",
    "            \n",
    "        last_id = ''\n",
    "        messages = ''\n",
    "        for line in iac_commits:\n",
    "            # If this is updated, we should do the update\n",
    "            if 'commit' == line[:6]:\n",
    "                current_id = line.split()[1]\n",
    "                # Try to find the matching issue number\n",
    "                git_show_command = ['git', 'show', '--format=%B', '%s'%last_id]\n",
    "                try:\n",
    "                    commit_message = subprocess.check_output(git_show_command, cwd=path, text=True).strip()\n",
    "                    pattern = r'#(\\d+)'\n",
    "                    matches = re.findall(pattern, commit_message)\n",
    "                except subprocess.CalledProcessError as e:\n",
    "                    print(f\"Error running 'git show': {e}\")\n",
    "    \n",
    "                if last_id != '':\n",
    "                    if matches:\n",
    "                        commit_messages.append({'ID': last_id, \"Messages\": messages, 'Unique Identifier': matches[0]})\n",
    "                    else:\n",
    "                        commit_messages.append({'ID': last_id, \"Messages\": messages, 'Unique Identifier': ''})\n",
    "                last_id = current_id\n",
    "                messages = ''\n",
    "                continue\n",
    "            # Skip the author, date, empty things, and authors\n",
    "            if 'Author' == line[:6] or 'Date' == line[:4] or line == '' or 'Signed-off-by' in line:\n",
    "                continue\n",
    "            else:\n",
    "                messages += line.replace('  ', '')\n",
    "            \n",
    "        # Update for the last message\n",
    "        if current_id != '':\n",
    "            # Try to find the matching issue number\n",
    "            git_show_command = ['git', 'show', '--format=%B', '%s'%current_id]\n",
    "            try:\n",
    "                commit_message = subprocess.check_output(git_show_command, cwd=path, text=True).strip()\n",
    "                pattern = r'#(\\d+)'\n",
    "                matches = re.findall(pattern, commit_message)\n",
    "            except subprocess.CalledProcessError as e:\n",
    "                print(f\"Error running 'git show': {e}\")\n",
    "            if matches:\n",
    "                commit_messages.append({'ID': current_id, \"Messages\": messages, 'Unique Identifier': matches[0]})\n",
    "            else:\n",
    "                commit_messages.append({'ID': current_id, \"Messages\": messages, 'Unique Identifier': ''})\n",
    "        # Save in a csv file\n",
    "        with open('./%s/%s_extracted_messages.csv'%(organization, repo), 'w') as csvfile:\n",
    "            writer = csv.DictWriter(csvfile, fieldnames=['ID', 'Messages', 'Unique Identifier'])\n",
    "            writer.writeheader()\n",
    "            writer.writerows(commit_messages)"
   ]
  },
  {
   "cell_type": "code",
   "execution_count": 141,
   "id": "ad3d9fc0",
   "metadata": {},
   "outputs": [
    {
     "name": "stdout",
     "output_type": "stream",
     "text": [
      "[]\n"
     ]
    }
   ],
   "source": [
    "git_show_command = ['git', 'show', '--format=%B', '%s'%'21112df4']\n",
    "try:\n",
    "    commit_message = subprocess.check_output(git_show_command, cwd=path, text=True).strip()\n",
    "    pattern = r'#(\\d+)'\n",
    "    matches = re.findall(pattern, commit_message)\n",
    "except subprocess.CalledProcessError as e:\n",
    "    print(f\"Error running 'git show': {e}\")\n",
    "print(matches)"
   ]
  },
  {
   "cell_type": "code",
   "execution_count": null,
   "id": "2a91362b",
   "metadata": {},
   "outputs": [],
   "source": []
  }
 ],
 "metadata": {
  "kernelspec": {
   "display_name": "Python 3 (ipykernel)",
   "language": "python",
   "name": "python3"
  },
  "language_info": {
   "codemirror_mode": {
    "name": "ipython",
    "version": 3
   },
   "file_extension": ".py",
   "mimetype": "text/x-python",
   "name": "python",
   "nbconvert_exporter": "python",
   "pygments_lexer": "ipython3",
   "version": "3.10.6"
  },
  "varInspector": {
   "cols": {
    "lenName": 16,
    "lenType": 16,
    "lenVar": 40
   },
   "kernels_config": {
    "python": {
     "delete_cmd_postfix": "",
     "delete_cmd_prefix": "del ",
     "library": "var_list.py",
     "varRefreshCmd": "print(var_dic_list())"
    },
    "r": {
     "delete_cmd_postfix": ") ",
     "delete_cmd_prefix": "rm(",
     "library": "var_list.r",
     "varRefreshCmd": "cat(var_dic_list()) "
    }
   },
   "types_to_exclude": [
    "module",
    "function",
    "builtin_function_or_method",
    "instance",
    "_Feature"
   ],
   "window_display": false
  }
 },
 "nbformat": 4,
 "nbformat_minor": 5
}
